{
 "cells": [
  {
   "cell_type": "markdown",
   "metadata": {},
   "source": [
    "### Preliminary imports"
   ]
  },
  {
   "cell_type": "code",
   "execution_count": null,
   "metadata": {},
   "outputs": [],
   "source": [
    "import numpy as np\n",
    "import os\n",
    "import pandas as pd\n",
    "import scipy.io as sio\n",
    "import seaborn as sns\n",
    "import matplotlib.pyplot as plt\n",
    "from feast import *\n",
    "\n",
    "from sklearn.preprocessing import StandardScaler\n",
    "from sklearn.decomposition import PCA\n",
    "from sklearn.pipeline import make_pipeline, Pipeline\n",
    "from sklearn.model_selection import train_test_split\n",
    "from sklearn.model_selection import StratifiedKFold\n",
    "from sklearn.model_selection import cross_val_score\n",
    "from sklearn.model_selection import learning_curve\n",
    "from sklearn.linear_model import LogisticRegression\n",
    "from sklearn.svm import LinearSVC\n",
    "from sklearn.svm import SVC\n",
    "from sklearn.neighbors import KNeighborsClassifier\n",
    "from sklearn.tree import DecisionTreeClassifier\n",
    "from sklearn.ensemble import RandomForestClassifier, AdaBoostClassifier, VotingClassifier, BaggingClassifier\n",
    "from sklearn.metrics import accuracy_score, f1_score, roc_auc_score, roc_curve, auc\n",
    "from sklearn.model_selection import GridSearchCV"
   ]
  },
  {
   "cell_type": "code",
   "execution_count": null,
   "metadata": {},
   "outputs": [],
   "source": [
    "sns.set()\n",
    "cwd = os.path.dirname(os.getcwd())\n",
    "data_dir = os.path.join(os.path.dirname(os.getcwd()), 'data')\n",
    "doc_dir = os.path.join(os.path.dirname(os.getcwd()), 'docs')"
   ]
  },
  {
   "cell_type": "markdown",
   "metadata": {},
   "source": [
    "###### Loading sfnc_pairs.mat"
   ]
  },
  {
   "cell_type": "code",
   "execution_count": null,
   "metadata": {},
   "outputs": [],
   "source": [
    "# sfnc_pairs = sio.loadmat(os.path.join(data_dir,'sfnc_pairs.mat'))  # Flor\n",
    "# sfnc_corr_pairs = sfnc_pairs['fnc_corrs']\n",
    "sfnc_pairs = sio.loadmat(os.path.join(data_dir,'StaticFNC_correlations.mat'))  # Hans\n",
    "sfnc_corr_pairs = sfnc_pairs['A']"
   ]
  },
  {
   "cell_type": "markdown",
   "metadata": {},
   "source": [
    "###### Plotting the correlation matrix"
   ]
  },
  {
   "cell_type": "code",
   "execution_count": null,
   "metadata": {},
   "outputs": [],
   "source": [
    "plt.matshow(sfnc_corr_pairs);\n",
    "plt.colorbar()\n",
    "plt.show()"
   ]
  },
  {
   "cell_type": "markdown",
   "metadata": {},
   "source": [
    "###### Feature Selection"
   ]
  },
  {
   "cell_type": "code",
   "execution_count": null,
   "metadata": {},
   "outputs": [],
   "source": [
    "#demographics = pd.read_excel(os.path.join(data_dir, '20160420_vcalhoun_rest_demography_cag_info_new.xls'))\n",
    "# demographics.info()"
   ]
  },
  {
   "cell_type": "code",
   "execution_count": null,
   "metadata": {},
   "outputs": [],
   "source": [
    "#demographics.cap_d_group_id2.value_counts()"
   ]
  },
  {
   "cell_type": "code",
   "execution_count": null,
   "metadata": {},
   "outputs": [],
   "source": [
    "demographics = sio.loadmat(os.path.join(data_dir,'grouplabels_mTBI_Hans.mat')) # HANS"
   ]
  },
  {
   "cell_type": "code",
   "execution_count": null,
   "metadata": {},
   "outputs": [],
   "source": [
    "X = sfnc_corr_pairs\n",
    "#y = demographics.cap_d_group_id2 # flor\n",
    "y = demographics['grouplabels'].T # Hans"
   ]
  },
  {
   "cell_type": "code",
   "execution_count": null,
   "metadata": {},
   "outputs": [],
   "source": [
    "y = np.ravel(y)"
   ]
  },
  {
   "cell_type": "code",
   "execution_count": null,
   "metadata": {},
   "outputs": [],
   "source": [
    "y"
   ]
  },
  {
   "cell_type": "code",
   "execution_count": null,
   "metadata": {},
   "outputs": [],
   "source": [
    "X_train, X_test, y_train, y_test = train_test_split(X, y,\n",
    "                                                    test_size=0.2,\n",
    "                                                    stratify=y,\n",
    "                                                    random_state=1)"
   ]
  },
  {
   "cell_type": "markdown",
   "metadata": {},
   "source": [
    "### PCA of the training data"
   ]
  },
  {
   "cell_type": "raw",
   "metadata": {},
   "source": [
    "pca = PCA()\n",
    "pca.fit(X_train)"
   ]
  },
  {
   "cell_type": "raw",
   "metadata": {},
   "source": [
    "var_exp = pca.explained_variance_ratio_\n",
    "cum_var_exp = np.cumsum(var_exp)\n",
    "print(cum_var_exp)"
   ]
  },
  {
   "cell_type": "raw",
   "metadata": {},
   "source": [
    "var_exp.shape"
   ]
  },
  {
   "cell_type": "raw",
   "metadata": {},
   "source": [
    "var_exp = pca.explained_variance_ratio_\n",
    "cum_var_exp = np.cumsum(var_exp)\n",
    "\n",
    "plt.bar(range(1, 209), var_exp, alpha=0.5, align='center',\n",
    "        label='individual explained variance')\n",
    "plt.step(range(1, 209), cum_var_exp, where='mid',\n",
    "         label='cumulative explained variance')\n",
    "plt.ylabel('Explained variance ratio')\n",
    "plt.xlabel('Principal component index')\n",
    "plt.legend(loc='best')\n",
    "plt.tight_layout()\n",
    "plt.show()"
   ]
  },
  {
   "cell_type": "raw",
   "metadata": {},
   "source": [
    "cum_var_exp[149]"
   ]
  },
  {
   "cell_type": "raw",
   "metadata": {},
   "source": [
    "num_components = X_train.shape[0]\n",
    "print(num_components)"
   ]
  },
  {
   "cell_type": "markdown",
   "metadata": {},
   "source": [
    "### Fitting a simple logistic regression model"
   ]
  },
  {
   "cell_type": "raw",
   "metadata": {},
   "source": [
    "pipe_lr = make_pipeline(PCA(n_components=num_components),\n",
    "                        LogisticRegression(solver='lbfgs'))\n",
    "\n",
    "pipe_lr.fit(X_train, y_train)\n",
    "y_pred = pipe_lr.predict(X_test)\n",
    "print('Test Accuracy: %.3f' % pipe_lr.score(X_test, y_test))\n",
    "print('F1-Score: %.3f' % f1_score(y_test, y_pred))\n",
    "false_positive_rate, true_positive_rate, thresholds = roc_curve(y_test, y_pred)\n",
    "roc_auc = auc(false_positive_rate, true_positive_rate)\n",
    "print('Area under ROC Curve: %.3f' % roc_auc)"
   ]
  },
  {
   "cell_type": "markdown",
   "metadata": {},
   "source": [
    "### Fitting a linear SVM"
   ]
  },
  {
   "cell_type": "raw",
   "metadata": {},
   "source": [
    "pipe_svc = make_pipeline(PCA(n_components=num_components),\n",
    "                        LinearSVC())\n",
    "\n",
    "pipe_svc.fit(X_train, y_train)\n",
    "y_pred = pipe_svc.predict(X_test)\n",
    "print('Test Accuracy: %.3f' % pipe_svc.score(X_test, y_test))\n",
    "print('F1-Score: %.3f' % f1_score(y_test, y_pred))\n",
    "false_positive_rate, true_positive_rate, thresholds = roc_curve(y_test, y_pred)\n",
    "roc_auc = auc(false_positive_rate, true_positive_rate)\n",
    "print('Area under ROC Curve: %.3f' % roc_auc)"
   ]
  },
  {
   "cell_type": "markdown",
   "metadata": {},
   "source": [
    "### Fitting a RBF SVM"
   ]
  },
  {
   "cell_type": "raw",
   "metadata": {},
   "source": [
    "pipe_rbf = make_pipeline(PCA(n_components=num_components),\n",
    "                        SVC(gamma='scale'))\n",
    "\n",
    "pipe_rbf.fit(X_train, y_train)\n",
    "y_pred = pipe_rbf.predict(X_test)\n",
    "print('Test Accuracy: %.3f' % pipe_rbf.score(X_test, y_test))\n",
    "print('F1-Score: %.3f' % f1_score(y_test, y_pred))\n",
    "false_positive_rate, true_positive_rate, thresholds = roc_curve(y_test, y_pred)\n",
    "roc_auc = auc(false_positive_rate, true_positive_rate)\n",
    "print('Area under ROC Curve: %.3f' % roc_auc)"
   ]
  },
  {
   "cell_type": "markdown",
   "metadata": {},
   "source": [
    "### Fitting a Decision Tree"
   ]
  },
  {
   "cell_type": "raw",
   "metadata": {},
   "source": [
    "pipe_dt = Pipeline([('pca', PCA(n_components=num_components)),\n",
    "                         ('dt', DecisionTreeClassifier(criterion='entropy', \n",
    "                              max_depth=None))])\n",
    "\n",
    "pipe_dt.fit(X_train, y_train)\n",
    "y_pred = pipe_dt.predict(X_test)\n",
    "print('Test Accuracy: %.3f' % pipe_dt.score(X_test, y_test))\n",
    "print('F1-Score: %.3f' % f1_score(y_test, y_pred))\n",
    "false_positive_rate, true_positive_rate, thresholds = roc_curve(y_test, y_pred)\n",
    "roc_auc = auc(false_positive_rate, true_positive_rate)\n",
    "print('Area under ROC Curve: %.3f' % roc_auc)"
   ]
  },
  {
   "cell_type": "markdown",
   "metadata": {},
   "source": [
    "### Fitting a kNN"
   ]
  },
  {
   "cell_type": "raw",
   "metadata": {},
   "source": [
    "pipe_knn = Pipeline([('pca', PCA(n_components=num_components)),\n",
    "                         ('knn', KNeighborsClassifier())])\n",
    "\n",
    "pipe_knn.fit(X_train, y_train)\n",
    "y_pred = pipe_knn.predict(X_test)\n",
    "print('Test Accuracy: %.3f' % pipe_knn.score(X_test, y_test))\n",
    "print('F1-Score: %.3f' % f1_score(y_test, y_pred))\n",
    "false_positive_rate, true_positive_rate, thresholds = roc_curve(y_test, y_pred)\n",
    "roc_auc = auc(false_positive_rate, true_positive_rate)\n",
    "print('Area under ROC Curve: %.3f' % roc_auc)"
   ]
  },
  {
   "cell_type": "markdown",
   "metadata": {},
   "source": [
    "### Fitting Random Forests"
   ]
  },
  {
   "cell_type": "raw",
   "metadata": {},
   "source": [
    "pipe_rf = Pipeline([('pca', PCA(n_components=num_components)),\n",
    "                         ('rf', RandomForestClassifier())])\n",
    "\n",
    "pipe_rf.fit(X_train, y_train)\n",
    "y_pred = pipe_rf.predict(X_test)\n",
    "print('Test Accuracy: %.3f' % pipe_rf.score(X_test, y_test))\n",
    "print('F1-Score: %.3f' % f1_score(y_test, y_pred))\n",
    "false_positive_rate, true_positive_rate, thresholds = roc_curve(y_test, y_pred)\n",
    "roc_auc = auc(false_positive_rate, true_positive_rate)\n",
    "print('Area under ROC Curve: %.3f' % roc_auc)"
   ]
  },
  {
   "cell_type": "markdown",
   "metadata": {},
   "source": [
    "# FEAST tests"
   ]
  },
  {
   "cell_type": "raw",
   "metadata": {},
   "source": [
    "lr_acc = []\n",
    "lr_f1 = []\n",
    "lr_auc = []\n",
    "\n",
    "#disr_lr1 = LogisticRegression(penalty='l1', solver='saga')\n",
    "#disr_lr2 = LogisticRegression(solver='lbfgs')\n",
    "disr_lr = SVC(gamma='scale')\n",
    "\n",
    "for num_features in range(5, 501, 5):\n",
    "    select_feature_index = DISR(X_train, y_train.values, num_features)\n",
    "    X_train_select = X_train[:, np.array(select_feature_index).astype(int)]\n",
    "    y_train_select = y_train\n",
    "\n",
    "    X_test_select = X_test[:, np.array(select_feature_index).astype(int)]\n",
    "    y_test_select = y_test\n",
    "\n",
    "    disr_lr.fit(X_train_select, y_train_select)\n",
    "    y_pred = disr_lr.predict(X_test_select)\n",
    "    lr_acc.append(disr_lr.score(X_test_select, y_test_select))\n",
    "    lr_f1.append(f1_score(y_test_select, y_pred))\n",
    "    false_positive_rate, true_positive_rate, thresholds = roc_curve(y_test_select, y_pred)\n",
    "    lr_auc.append(auc(false_positive_rate, true_positive_rate))\n",
    "        \n",
    "plt.plot(lr_acc, label='Acc')\n",
    "plt.plot(lr_f1, label='F1_Score')\n",
    "plt.plot(lr_auc, label='AUC')\n",
    "plt.legend()"
   ]
  },
  {
   "cell_type": "code",
   "execution_count": null,
   "metadata": {
    "scrolled": false
   },
   "outputs": [],
   "source": [
    "lr = LogisticRegression(solver='lbfgs')\n",
    "svc = LinearSVC(max_iter=100000)\n",
    "rbf = SVC(gamma='scale')\n",
    "rf = RandomForestClassifier()\n",
    "knn  = KNeighborsClassifier()\n",
    "\n",
    "algos = [BetaGamma, DISR, CIFE, CMIM, CondMI, Condred]\n",
    "num_features_list = range(5, 101, 5)\n",
    "classifiers = [lr, svc, rbf, rf, knn]\n",
    "\n",
    "acc_matrix = np.zeros((len(algos), len(num_features_list), len(classifiers)))\n",
    "f1_matrix = np.zeros(acc_matrix.shape)\n",
    "auc_matrix = np.zeros(f1_matrix.shape)\n",
    "\n",
    "for i, algo in enumerate(algos):\n",
    "    for j, num_features in enumerate(num_features_list):\n",
    "        select_feature_index = algo(X_train, y_train, num_features)\n",
    "\n",
    "        X_train_select = X_train[:, np.array(select_feature_index).astype(int)]\n",
    "        y_train_select = y_train\n",
    "\n",
    "        X_test_select = X_test[:, np.array(select_feature_index).astype(int)]\n",
    "        y_test_select = y_test\n",
    "\n",
    "        for k, classifier in enumerate(classifiers):\n",
    "            classifier.fit(X_train_select, y_train_select)\n",
    "            \n",
    "            y_pred = classifier.predict(X_test_select)\n",
    "            false_positive_rate, true_positive_rate, thresholds = roc_curve(y_test_select, y_pred)\n",
    "            \n",
    "            acc_matrix[i, j, k] = classifier.score(X_test_select, y_test_select)\n",
    "            f1_matrix[i, j, k] = f1_score(y_test_select, y_pred)\n",
    "            auc_matrix[i, j, k] = auc(false_positive_rate, true_positive_rate)"
   ]
  },
  {
   "cell_type": "markdown",
   "metadata": {},
   "source": [
    "### Plots"
   ]
  },
  {
   "cell_type": "code",
   "execution_count": null,
   "metadata": {
    "scrolled": false
   },
   "outputs": [],
   "source": [
    "sns.set_style(\"darkgrid\")\n",
    "classifier_labels = ['lr', 'svc', 'rbf', 'rf', 'knn']\n",
    "algo_labels = ['BetaGamma', 'DISR', 'CIFE', 'CMIM', 'CondMI', 'Condred']\n",
    "for i in range(acc_matrix.shape[0]):\n",
    "    plt.figure(i)\n",
    "    for j in range(acc_matrix.shape[2]):\n",
    "        plt.plot(acc_matrix[i, :, j], label=str(classifier_labels[j]), linestyle=':')\n",
    "        plt.title('Accuracy - ' + algo_labels[i])\n",
    "        plt.legend()\n",
    "\n",
    "    plt.show()\n",
    "    \n",
    "for i in range(acc_matrix.shape[0]):\n",
    "    plt.figure(i)\n",
    "    for j in range(acc_matrix.shape[2]):\n",
    "        plt.plot(f1_matrix[i, :, j], label=str(classifier_labels[j]), linestyle=':')\n",
    "        plt.title('F1 - ' + algo_labels[i])\n",
    "        plt.legend()\n",
    "\n",
    "    plt.show()\n",
    "    \n",
    "for i in range(acc_matrix.shape[0]):\n",
    "    plt.figure(i)\n",
    "    for j in range(acc_matrix.shape[2]):\n",
    "        plt.plot(auc_matrix[i, :, j], label=str(classifier_labels[j]), linestyle=':')\n",
    "        plt.title('AUC - ' + algo_labels[i])\n",
    "        plt.legend()\n",
    "\n",
    "    plt.show()"
   ]
  }
 ],
 "metadata": {
  "kernelspec": {
   "display_name": "Python 2",
   "language": "python",
   "name": "python2"
  },
  "language_info": {
   "codemirror_mode": {
    "name": "ipython",
    "version": 2
   },
   "file_extension": ".py",
   "mimetype": "text/x-python",
   "name": "python",
   "nbconvert_exporter": "python",
   "pygments_lexer": "ipython2",
   "version": "2.7.16"
  }
 },
 "nbformat": 4,
 "nbformat_minor": 2
}
